{
 "cells": [
  {
   "cell_type": "code",
   "execution_count": null,
   "metadata": {},
   "outputs": [],
   "source": []
  },
  {
   "cell_type": "code",
   "execution_count": null,
   "metadata": {},
   "outputs": [],
   "source": []
  },
  {
   "cell_type": "code",
   "execution_count": null,
   "metadata": {},
   "outputs": [],
   "source": []
  },
  {
   "cell_type": "code",
   "execution_count": null,
   "metadata": {},
   "outputs": [],
   "source": []
  },
  {
   "cell_type": "code",
   "execution_count": null,
   "metadata": {},
   "outputs": [],
   "source": [
    "# ENCODER\n",
    "\n",
    "ei = Input(shape=(28, 28, 1))\n",
    "e = Conv2D(32, padding='same', kernel_size=(3,3), activation='relu')(ei)\n",
    "e = MaxPooling2D(pool_size=(2,2))(e)\n",
    "e = Conv2D(64, padding='same', kernel_size=(3,3), activation='relu')(e)\n",
    "e = MaxPooling2D(pool_size=(2,2))(e)\n",
    "e = Flatten()(e)\n",
    "e = Dense(units=300)(e)\n",
    "e = LeakyReLU()(e)\n",
    "e = Dense(units=dim)(e)\n",
    "eo = LeakyReLU()(e)\n",
    "\n",
    "encoder = Model(ei, eo)\n",
    "encoder.summary()"
   ]
  },
  {
   "cell_type": "code",
   "execution_count": null,
   "metadata": {},
   "outputs": [],
   "source": [
    "# DECODER\n",
    "di = Input(shape=(dim), name=\"decoder_input\")\n",
    "\n",
    "d = Dense(units=300, name=\"decoder_dense_1\")(di)\n",
    "d = LeakyReLU(name=\"decoder_leakyrelu_1\")(d)\n",
    "d = Dense(units=784, name=\"decoder_dense_2\")(d)\n",
    "d = LeakyReLU(name=\"decoder_output\")(d)\n",
    "\n",
    "do = Reshape((28, 28, 1))(d)\n",
    "\n",
    "decoder = Model(di, do, name=\"decoder_model\")\n",
    "decoder.summary()"
   ]
  },
  {
   "cell_type": "code",
   "execution_count": null,
   "metadata": {},
   "outputs": [],
   "source": []
  }
 ],
 "metadata": {
  "kernelspec": {
   "display_name": "Python 3",
   "language": "python",
   "name": "python3"
  },
  "language_info": {
   "codemirror_mode": {
    "name": "ipython",
    "version": 3
   },
   "file_extension": ".py",
   "mimetype": "text/x-python",
   "name": "python",
   "nbconvert_exporter": "python",
   "pygments_lexer": "ipython3",
   "version": "3.7.6"
  }
 },
 "nbformat": 4,
 "nbformat_minor": 4
}
