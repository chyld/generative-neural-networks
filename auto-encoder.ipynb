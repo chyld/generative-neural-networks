{
 "cells": [
  {
   "cell_type": "markdown",
   "metadata": {},
   "source": [
    "# OVERVIEW\n",
    "\n",
    "- We compress MNIST data (784 dimensions) into 3 dimensions and then uncompress back to the original size.\n",
    "- Similare to PCA, except this will be a non-linear dimensionality reduction, due to the non-linear activation functions."
   ]
  },
  {
   "cell_type": "code",
   "execution_count": 19,
   "metadata": {},
   "outputs": [],
   "source": [
    "# IMPORTS\n",
    "from tensorflow.keras.datasets.mnist import load_data\n",
    "from tensorflow.keras.layers import Input, Dense, LeakyReLU\n",
    "from tensorflow.keras.models import Model\n",
    "from tensorflow.keras.optimizers import Adam\n",
    "import numpy as np\n",
    "import matplotlib.pyplot as plt\n",
    "%matplotlib inline"
   ]
  },
  {
   "cell_type": "code",
   "execution_count": 20,
   "metadata": {},
   "outputs": [
    {
     "data": {
      "text/plain": [
       "((60000, 784), (10000, 784))"
      ]
     },
     "execution_count": 20,
     "metadata": {},
     "output_type": "execute_result"
    }
   ],
   "source": [
    "# MNIST Dataset\n",
    "(x_train_orig, y_train), (x_test_orig, y_test) = load_data()\n",
    "x_train_orig = x_train_orig.astype(\"float32\") / 255.0\n",
    "x_test_orig = x_test_orig.astype(\"float32\") / 255.0\n",
    "\n",
    "x_train = x_train_orig.reshape(-1, 28 ** 2)\n",
    "x_test = x_test_orig.reshape(-1, 28 ** 2)\n",
    "\n",
    "x_train.shape, x_test.shape"
   ]
  },
  {
   "cell_type": "code",
   "execution_count": 21,
   "metadata": {},
   "outputs": [],
   "source": [
    "# MODEL PARAMETERS\n",
    "d = 3"
   ]
  },
  {
   "cell_type": "code",
   "execution_count": 22,
   "metadata": {},
   "outputs": [
    {
     "name": "stdout",
     "output_type": "stream",
     "text": [
      "Model: \"encoder_model\"\n",
      "_________________________________________________________________\n",
      "Layer (type)                 Output Shape              Param #   \n",
      "=================================================================\n",
      "encoder_input (InputLayer)   [(None, 784)]             0         \n",
      "_________________________________________________________________\n",
      "encoder_dense_1 (Dense)      (None, 300)               235500    \n",
      "_________________________________________________________________\n",
      "encoder_leakyrelu_1 (LeakyRe (None, 300)               0         \n",
      "_________________________________________________________________\n",
      "encoder_dense_2 (Dense)      (None, 3)                 903       \n",
      "_________________________________________________________________\n",
      "encoder_output (LeakyReLU)   (None, 3)                 0         \n",
      "=================================================================\n",
      "Total params: 236,403\n",
      "Trainable params: 236,403\n",
      "Non-trainable params: 0\n",
      "_________________________________________________________________\n"
     ]
    }
   ],
   "source": [
    "# ENCODER\n",
    "x = Input(shape=(784), name=\"encoder_input\")\n",
    "\n",
    "encoder_dense_layer1 = Dense(units=300, name=\"encoder_dense_1\")(x)\n",
    "encoder_activ_layer1 = LeakyReLU(name=\"encoder_leakyrelu_1\")(encoder_dense_layer1)\n",
    "\n",
    "encoder_dense_layer2 = Dense(units=d, name=\"encoder_dense_2\")(encoder_activ_layer1)\n",
    "encoder_output = LeakyReLU(name=\"encoder_output\")(encoder_dense_layer2)\n",
    "\n",
    "encoder = Model(x, encoder_output, name=\"encoder_model\")\n",
    "encoder.summary()"
   ]
  },
  {
   "cell_type": "code",
   "execution_count": 23,
   "metadata": {},
   "outputs": [
    {
     "name": "stdout",
     "output_type": "stream",
     "text": [
      "Model: \"decoder_model\"\n",
      "_________________________________________________________________\n",
      "Layer (type)                 Output Shape              Param #   \n",
      "=================================================================\n",
      "decoder_input (InputLayer)   [(None, 3)]               0         \n",
      "_________________________________________________________________\n",
      "decoder_dense_1 (Dense)      (None, 300)               1200      \n",
      "_________________________________________________________________\n",
      "decoder_leakyrelu_1 (LeakyRe (None, 300)               0         \n",
      "_________________________________________________________________\n",
      "decoder_dense_2 (Dense)      (None, 784)               235984    \n",
      "_________________________________________________________________\n",
      "decoder_output (LeakyReLU)   (None, 784)               0         \n",
      "=================================================================\n",
      "Total params: 237,184\n",
      "Trainable params: 237,184\n",
      "Non-trainable params: 0\n",
      "_________________________________________________________________\n"
     ]
    }
   ],
   "source": [
    "# DECODER\n",
    "decoder_input = Input(shape=(d), name=\"decoder_input\")\n",
    "\n",
    "decoder_dense_layer1 = Dense(units=300, name=\"decoder_dense_1\")(decoder_input)\n",
    "decoder_activ_layer1 = LeakyReLU(name=\"decoder_leakyrelu_1\")(decoder_dense_layer1)\n",
    "\n",
    "decoder_dense_layer2 = Dense(units=784, name=\"decoder_dense_2\")(decoder_activ_layer1)\n",
    "decoder_output = LeakyReLU(name=\"decoder_output\")(decoder_dense_layer2)\n",
    "\n",
    "decoder = Model(decoder_input, decoder_output, name=\"decoder_model\")\n",
    "decoder.summary()"
   ]
  },
  {
   "cell_type": "code",
   "execution_count": 24,
   "metadata": {},
   "outputs": [
    {
     "name": "stdout",
     "output_type": "stream",
     "text": [
      "Model: \"AE\"\n",
      "_________________________________________________________________\n",
      "Layer (type)                 Output Shape              Param #   \n",
      "=================================================================\n",
      "AE_input (InputLayer)        [(None, 784)]             0         \n",
      "_________________________________________________________________\n",
      "encoder_model (Model)        (None, 3)                 236403    \n",
      "_________________________________________________________________\n",
      "decoder_model (Model)        (None, 784)               237184    \n",
      "=================================================================\n",
      "Total params: 473,587\n",
      "Trainable params: 473,587\n",
      "Non-trainable params: 0\n",
      "_________________________________________________________________\n"
     ]
    }
   ],
   "source": [
    "# AUTO ENCODER\n",
    "ae_input = Input(shape=(784), name=\"AE_input\")\n",
    "ae_encoder_output = encoder(ae_input)\n",
    "ae_decoder_output = decoder(ae_encoder_output)\n",
    "\n",
    "ae = Model(ae_input, ae_decoder_output, name=\"AE\")\n",
    "ae.summary()"
   ]
  },
  {
   "cell_type": "code",
   "execution_count": 25,
   "metadata": {},
   "outputs": [
    {
     "name": "stdout",
     "output_type": "stream",
     "text": [
      "Train on 60000 samples, validate on 10000 samples\n",
      "Epoch 1/20\n",
      "60000/60000 [==============================] - 3s 43us/sample - loss: 0.0549 - val_loss: 0.0475\n",
      "Epoch 2/20\n",
      "60000/60000 [==============================] - 3s 45us/sample - loss: 0.0464 - val_loss: 0.0448\n",
      "Epoch 3/20\n",
      "60000/60000 [==============================] - 2s 33us/sample - loss: 0.0444 - val_loss: 0.0433\n",
      "Epoch 4/20\n",
      "60000/60000 [==============================] - 2s 31us/sample - loss: 0.0431 - val_loss: 0.0423\n",
      "Epoch 5/20\n",
      "60000/60000 [==============================] - 2s 31us/sample - loss: 0.0421 - val_loss: 0.0414\n",
      "Epoch 6/20\n",
      "60000/60000 [==============================] - 2s 32us/sample - loss: 0.0414 - val_loss: 0.0407\n",
      "Epoch 7/20\n",
      "60000/60000 [==============================] - 2s 32us/sample - loss: 0.0408 - val_loss: 0.0403\n",
      "Epoch 8/20\n",
      "60000/60000 [==============================] - 2s 32us/sample - loss: 0.0404 - val_loss: 0.0401\n",
      "Epoch 9/20\n",
      "60000/60000 [==============================] - 2s 33us/sample - loss: 0.0400 - val_loss: 0.0396\n",
      "Epoch 10/20\n",
      "60000/60000 [==============================] - 2s 33us/sample - loss: 0.0397 - val_loss: 0.0394\n",
      "Epoch 11/20\n",
      "60000/60000 [==============================] - 2s 33us/sample - loss: 0.0395 - val_loss: 0.0392\n",
      "Epoch 12/20\n",
      "60000/60000 [==============================] - 2s 34us/sample - loss: 0.0392 - val_loss: 0.0390\n",
      "Epoch 13/20\n",
      "60000/60000 [==============================] - 2s 34us/sample - loss: 0.0390 - val_loss: 0.0388\n",
      "Epoch 14/20\n",
      "60000/60000 [==============================] - 2s 34us/sample - loss: 0.0388 - val_loss: 0.0385\n",
      "Epoch 15/20\n",
      "60000/60000 [==============================] - 2s 35us/sample - loss: 0.0386 - val_loss: 0.0385\n",
      "Epoch 16/20\n",
      "60000/60000 [==============================] - 2s 35us/sample - loss: 0.0384 - val_loss: 0.0385\n",
      "Epoch 17/20\n",
      "60000/60000 [==============================] - 2s 35us/sample - loss: 0.0383 - val_loss: 0.0382\n",
      "Epoch 18/20\n",
      "60000/60000 [==============================] - 2s 35us/sample - loss: 0.0381 - val_loss: 0.0380\n",
      "Epoch 19/20\n",
      "60000/60000 [==============================] - 2s 35us/sample - loss: 0.0380 - val_loss: 0.0379\n",
      "Epoch 20/20\n",
      "60000/60000 [==============================] - 2s 36us/sample - loss: 0.0379 - val_loss: 0.0378\n"
     ]
    },
    {
     "data": {
      "text/plain": [
       "<tensorflow.python.keras.callbacks.History at 0x7f05fc152590>"
      ]
     },
     "execution_count": 25,
     "metadata": {},
     "output_type": "execute_result"
    }
   ],
   "source": [
    "# TRAINING\n",
    "ae.compile(loss=\"mse\", optimizer=Adam(lr=0.0005))\n",
    "ae.fit(x_train, x_train, epochs=20, batch_size=256, shuffle=True, validation_data=(x_test, x_test))"
   ]
  },
  {
   "cell_type": "code",
   "execution_count": 26,
   "metadata": {},
   "outputs": [
    {
     "data": {
      "text/plain": [
       "(60000, 784)"
      ]
     },
     "execution_count": 26,
     "metadata": {},
     "output_type": "execute_result"
    }
   ],
   "source": [
    "predictions = ae.predict(x_train)\n",
    "predictions.shape"
   ]
  },
  {
   "cell_type": "code",
   "execution_count": 27,
   "metadata": {},
   "outputs": [
    {
     "data": {
      "image/png": "[encoded data removed]",
      "text/plain": [
       "<Figure size 216x504 with 20 Axes>"
      ]
     },
     "metadata": {
      "needs_background": "light"
     },
     "output_type": "display_data"
    }
   ],
   "source": [
    "# VISUALIZATION\n",
    "n = 10\n",
    "fig = plt.figure(figsize=(3, 7))\n",
    "for i in range(n):\n",
    "    before = x_train[i].reshape(28, 28)\n",
    "    after = predictions[i].reshape(28, 28)\n",
    "    ax = fig.add_subplot(n, 2, (i * 2) + 1)\n",
    "    ax.imshow(before, cmap='gray')\n",
    "    ax.axis('off')\n",
    "    ax = fig.add_subplot(n, 2, (i * 2) + 2)\n",
    "    ax.imshow(after, cmap='gray')\n",
    "    ax.axis('off')"
   ]
  },
  {
   "cell_type": "code",
   "execution_count": null,
   "metadata": {},
   "outputs": [],
   "source": []
  }
 ],
 "metadata": {
  "kernelspec": {
   "display_name": "Python 3",
   "language": "python",
   "name": "python3"
  },
  "language_info": {
   "codemirror_mode": {
    "name": "ipython",
    "version": 3
   },
   "file_extension": ".py",
   "mimetype": "text/x-python",
   "name": "python",
   "nbconvert_exporter": "python",
   "pygments_lexer": "ipython3",
   "version": "3.7.6"
  }
 },
 "nbformat": 4,
 "nbformat_minor": 4
}
