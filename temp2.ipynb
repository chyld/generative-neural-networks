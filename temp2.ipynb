{
 "cells": [
  {
   "cell_type": "markdown",
   "metadata": {},
   "source": [
    "# OVERVIEW\n",
    "\n",
    "- We compress MNIST data (784 dimensions) into 2 dimensions and then uncompress back to the original size.\n",
    "- Similare to PCA, except this will be a non-linear dimensionality reduction, due to the non-linear activation functions."
   ]
  },
  {
   "cell_type": "code",
   "execution_count": 35,
   "metadata": {},
   "outputs": [
    {
     "name": "stdout",
     "output_type": "stream",
     "text": [
      "The autoreload extension is already loaded. To reload it, use:\n",
      "  %reload_ext autoreload\n"
     ]
    }
   ],
   "source": [
    "# IMPORTS\n",
    "import numpy as np\n",
    "import matplotlib.pyplot as plt\n",
    "from main import *\n",
    "\n",
    "%matplotlib inline\n",
    "%load_ext autoreload\n",
    "%autoreload 2"
   ]
  },
  {
   "cell_type": "code",
   "execution_count": 36,
   "metadata": {},
   "outputs": [
    {
     "data": {
      "text/plain": [
       "((60000, 28, 28, 1), (60000,))"
      ]
     },
     "execution_count": 36,
     "metadata": {},
     "output_type": "execute_result"
    }
   ],
   "source": [
    "# MNIST Dataset\n",
    "x_train, x_test, y_train, y_test = eda()\n",
    "x_train.shape, y_train.shape"
   ]
  },
  {
   "cell_type": "code",
   "execution_count": 37,
   "metadata": {},
   "outputs": [],
   "source": [
    "# DIMENSIONALITY REDUCTION\n",
    "dim = 2"
   ]
  },
  {
   "cell_type": "code",
   "execution_count": 46,
   "metadata": {},
   "outputs": [
    {
     "name": "stdout",
     "output_type": "stream",
     "text": [
      "Model: \"Dense-Encocder\"\n",
      "_________________________________________________________________\n",
      "Layer (type)                 Output Shape              Param #   \n",
      "=================================================================\n",
      "input_14 (InputLayer)        [(None, 28, 28, 1)]       0         \n",
      "_________________________________________________________________\n",
      "flatten_7 (Flatten)          (None, 784)               0         \n",
      "_________________________________________________________________\n",
      "dense_22 (Dense)             (None, 300)               235500    \n",
      "_________________________________________________________________\n",
      "leaky_re_lu_19 (LeakyReLU)   (None, 300)               0         \n",
      "_________________________________________________________________\n",
      "dense_23 (Dense)             (None, 2)                 602       \n",
      "=================================================================\n",
      "Total params: 236,102\n",
      "Trainable params: 236,102\n",
      "Non-trainable params: 0\n",
      "_________________________________________________________________\n"
     ]
    }
   ],
   "source": [
    "# DENSE ENCODER\n",
    "de = dense_encoder(x_train.shape[1:], 300, dim)\n",
    "de.summary()"
   ]
  },
  {
   "cell_type": "code",
   "execution_count": 47,
   "metadata": {},
   "outputs": [
    {
     "name": "stdout",
     "output_type": "stream",
     "text": [
      "Model: \"Dense-Decoder\"\n",
      "_________________________________________________________________\n",
      "Layer (type)                 Output Shape              Param #   \n",
      "=================================================================\n",
      "input_15 (InputLayer)        [(None, 2)]               0         \n",
      "_________________________________________________________________\n",
      "dense_24 (Dense)             (None, 300)               900       \n",
      "_________________________________________________________________\n",
      "leaky_re_lu_20 (LeakyReLU)   (None, 300)               0         \n",
      "_________________________________________________________________\n",
      "dense_25 (Dense)             (None, 784)               235984    \n",
      "_________________________________________________________________\n",
      "leaky_re_lu_21 (LeakyReLU)   (None, 784)               0         \n",
      "_________________________________________________________________\n",
      "reshape_3 (Reshape)          (None, 28, 28, 1)         0         \n",
      "=================================================================\n",
      "Total params: 236,884\n",
      "Trainable params: 236,884\n",
      "Non-trainable params: 0\n",
      "_________________________________________________________________\n"
     ]
    }
   ],
   "source": [
    "# DENSE DECODER\n",
    "dd = dense_decoder(x_train.shape[1:], 300, dim)\n",
    "dd.summary()"
   ]
  },
  {
   "cell_type": "code",
   "execution_count": 49,
   "metadata": {},
   "outputs": [
    {
     "name": "stdout",
     "output_type": "stream",
     "text": [
      "Model: \"Dense-AutoEncoder\"\n",
      "_________________________________________________________________\n",
      "Layer (type)                 Output Shape              Param #   \n",
      "=================================================================\n",
      "input_17 (InputLayer)        [(None, 28, 28, 1)]       0         \n",
      "_________________________________________________________________\n",
      "Dense-Encocder (Model)       (None, 2)                 236102    \n",
      "_________________________________________________________________\n",
      "Dense-Decoder (Model)        (None, 28, 28, 1)         236884    \n",
      "=================================================================\n",
      "Total params: 472,986\n",
      "Trainable params: 472,986\n",
      "Non-trainable params: 0\n",
      "_________________________________________________________________\n"
     ]
    }
   ],
   "source": [
    "# DENSE AUTO ENCODER\n",
    "daei = Input(shape=x_train.shape[1:])\n",
    "daex = de(daei)\n",
    "daex = dd(daex)\n",
    "\n",
    "dae = Model(daei, daex, name=\"Dense-AutoEncoder\")\n",
    "dae.summary()"
   ]
  },
  {
   "cell_type": "code",
   "execution_count": 50,
   "metadata": {},
   "outputs": [
    {
     "name": "stdout",
     "output_type": "stream",
     "text": [
      "Train on 60000 samples, validate on 10000 samples\n",
      "Epoch 1/2\n",
      "60000/60000 [==============================] - 2s 38us/sample - loss: 0.0600 - val_loss: 0.0553\n",
      "Epoch 2/2\n",
      "60000/60000 [==============================] - 2s 32us/sample - loss: 0.0541 - val_loss: 0.0530\n"
     ]
    },
    {
     "data": {
      "text/plain": [
       "<tensorflow.python.keras.callbacks.History at 0x7f03306ed110>"
      ]
     },
     "execution_count": 50,
     "metadata": {},
     "output_type": "execute_result"
    }
   ],
   "source": [
    "# DENSE AUTO ENCODER TRAINING\n",
    "dae.compile(loss=\"mse\", optimizer=Adam(lr=0.0005))\n",
    "dae.fit(x_train, x_train, epochs=2, batch_size=256, shuffle=True, validation_data=(x_test, x_test))"
   ]
  },
  {
   "cell_type": "code",
   "execution_count": 51,
   "metadata": {},
   "outputs": [
    {
     "data": {
      "text/plain": [
       "(60000, 28, 28, 1)"
      ]
     },
     "execution_count": 51,
     "metadata": {},
     "output_type": "execute_result"
    }
   ],
   "source": [
    "# DENSE AUTO ENCODER PREDICTIONS\n",
    "daep = dae.predict(x_train)\n",
    "daep.shape"
   ]
  },
  {
   "cell_type": "code",
   "execution_count": 54,
   "metadata": {},
   "outputs": [
    {
     "data": {
      "image/png": "[encoded data removed]",
      "text/plain": [
       "<Figure size 216x504 with 20 Axes>"
      ]
     },
     "metadata": {
      "needs_background": "light"
     },
     "output_type": "display_data"
    }
   ],
   "source": [
    "# DENSE AUTO ENCODER : ORIGINAL vs RECONSTRUCTED\n",
    "n = 10\n",
    "fig = plt.figure(figsize=(3, 7))\n",
    "for i in range(n):\n",
    "    before = x_train[i].reshape(28, 28)\n",
    "    after = daep[i].reshape(28, 28)\n",
    "    ax = fig.add_subplot(n, 2, (i * 2) + 1)\n",
    "    ax.imshow(before, cmap='gray')\n",
    "    ax.axis('off')\n",
    "    ax = fig.add_subplot(n, 2, (i * 2) + 2)\n",
    "    ax.imshow(after, cmap='gray')\n",
    "    ax.axis('off')"
   ]
  },
  {
   "cell_type": "code",
   "execution_count": null,
   "metadata": {},
   "outputs": [],
   "source": []
  },
  {
   "cell_type": "code",
   "execution_count": null,
   "metadata": {},
   "outputs": [],
   "source": []
  },
  {
   "cell_type": "code",
   "execution_count": null,
   "metadata": {},
   "outputs": [],
   "source": []
  },
  {
   "cell_type": "code",
   "execution_count": null,
   "metadata": {},
   "outputs": [],
   "source": []
  },
  {
   "cell_type": "code",
   "execution_count": null,
   "metadata": {},
   "outputs": [],
   "source": []
  },
  {
   "cell_type": "code",
   "execution_count": null,
   "metadata": {},
   "outputs": [],
   "source": []
  },
  {
   "cell_type": "code",
   "execution_count": null,
   "metadata": {},
   "outputs": [],
   "source": []
  },
  {
   "cell_type": "code",
   "execution_count": null,
   "metadata": {},
   "outputs": [],
   "source": []
  },
  {
   "cell_type": "code",
   "execution_count": null,
   "metadata": {},
   "outputs": [],
   "source": []
  },
  {
   "cell_type": "code",
   "execution_count": null,
   "metadata": {},
   "outputs": [],
   "source": []
  },
  {
   "cell_type": "code",
   "execution_count": null,
   "metadata": {},
   "outputs": [],
   "source": []
  },
  {
   "cell_type": "code",
   "execution_count": null,
   "metadata": {},
   "outputs": [],
   "source": []
  },
  {
   "cell_type": "code",
   "execution_count": null,
   "metadata": {},
   "outputs": [],
   "source": [
    "# ENCODER\n",
    "\n",
    "ei = Input(shape=(28, 28, 1))\n",
    "e = Conv2D(32, padding='same', kernel_size=(3,3), activation='relu')(ei)\n",
    "e = MaxPooling2D(pool_size=(2,2))(e)\n",
    "e = Conv2D(64, padding='same', kernel_size=(3,3), activation='relu')(e)\n",
    "e = MaxPooling2D(pool_size=(2,2))(e)\n",
    "e = Flatten()(e)\n",
    "e = Dense(units=300)(e)\n",
    "e = LeakyReLU()(e)\n",
    "e = Dense(units=dim)(e)\n",
    "eo = LeakyReLU()(e)\n",
    "\n",
    "encoder = Model(ei, eo)\n",
    "encoder.summary()"
   ]
  },
  {
   "cell_type": "code",
   "execution_count": null,
   "metadata": {},
   "outputs": [],
   "source": [
    "# DECODER\n",
    "di = Input(shape=(dim), name=\"decoder_input\")\n",
    "\n",
    "d = Dense(units=300, name=\"decoder_dense_1\")(di)\n",
    "d = LeakyReLU(name=\"decoder_leakyrelu_1\")(d)\n",
    "d = Dense(units=784, name=\"decoder_dense_2\")(d)\n",
    "d = LeakyReLU(name=\"decoder_output\")(d)\n",
    "\n",
    "do = Reshape((28, 28, 1))(d)\n",
    "\n",
    "decoder = Model(di, do, name=\"decoder_model\")\n",
    "decoder.summary()"
   ]
  },
  {
   "cell_type": "code",
   "execution_count": null,
   "metadata": {},
   "outputs": [],
   "source": [
    "# AUTO ENCODER\n",
    "ae_input = Input(shape=(28, 28, 1), name=\"AE_input\")\n",
    "ae_encoder_output = encoder(ae_input)\n",
    "ae_decoder_output = decoder(ae_encoder_output)\n",
    "\n",
    "ae = Model(ae_input, ae_decoder_output, name=\"AE\")\n",
    "ae.summary()"
   ]
  },
  {
   "cell_type": "code",
   "execution_count": null,
   "metadata": {},
   "outputs": [],
   "source": [
    "# TRAINING\n",
    "ae.compile(loss=\"mse\", optimizer=Adam(lr=0.0005))\n",
    "ae.fit(x_train, x_train, epochs=20, batch_size=256, shuffle=True, validation_data=(x_test, x_test))"
   ]
  },
  {
   "cell_type": "code",
   "execution_count": null,
   "metadata": {},
   "outputs": [],
   "source": [
    "predictions = ae.predict(x_train)\n",
    "predictions.shape"
   ]
  },
  {
   "cell_type": "code",
   "execution_count": null,
   "metadata": {},
   "outputs": [],
   "source": [
    "# ORIGINAL vs RECONSTRUCTED\n",
    "n = 10\n",
    "fig = plt.figure(figsize=(3, 7))\n",
    "for i in range(n):\n",
    "    before = x_train[i].reshape(28, 28)\n",
    "    after = predictions[i].reshape(28, 28)\n",
    "    ax = fig.add_subplot(n, 2, (i * 2) + 1)\n",
    "    ax.imshow(before, cmap='gray')\n",
    "    ax.axis('off')\n",
    "    ax = fig.add_subplot(n, 2, (i * 2) + 2)\n",
    "    ax.imshow(after, cmap='gray')\n",
    "    ax.axis('off')"
   ]
  },
  {
   "cell_type": "code",
   "execution_count": null,
   "metadata": {},
   "outputs": [],
   "source": [
    "# LATENT SPACE\n",
    "dim_2 = encoder.predict(x_train)\n",
    "plt.figure(figsize=(10, 7))\n",
    "scatter = plt.scatter(*dim_2.T, c=y_train, alpha=0.3, cmap='Spectral')\n",
    "elements = scatter.legend_elements()\n",
    "plt.legend(*elements, title='Classes');"
   ]
  },
  {
   "cell_type": "code",
   "execution_count": null,
   "metadata": {},
   "outputs": [],
   "source": [
    "# GENERATING DIGITS BY SAMPLING FROM THE LATENT SPACE\n",
    "fig = plt.figure(figsize=(15, 7))\n",
    "for i in range(40):\n",
    "    x, y = np.random.uniform(-10, 15, 2) # see graph above for potential values\n",
    "    ax = fig.add_subplot(4, 10, i + 1)\n",
    "    ax.imshow(decoder.predict([[x, y]]).reshape(28, 28), cmap='gray')\n",
    "    ax.axis('off')"
   ]
  },
  {
   "cell_type": "code",
   "execution_count": null,
   "metadata": {},
   "outputs": [],
   "source": []
  }
 ],
 "metadata": {
  "kernelspec": {
   "display_name": "Python 3",
   "language": "python",
   "name": "python3"
  },
  "language_info": {
   "codemirror_mode": {
    "name": "ipython",
    "version": 3
   },
   "file_extension": ".py",
   "mimetype": "text/x-python",
   "name": "python",
   "nbconvert_exporter": "python",
   "pygments_lexer": "ipython3",
   "version": "3.7.6"
  }
 },
 "nbformat": 4,
 "nbformat_minor": 4
}
